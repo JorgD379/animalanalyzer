{
 "cells": [
  {
   "cell_type": "code",
   "execution_count": 38,
   "id": "d5c77c21",
   "metadata": {
    "scrolled": true
   },
   "outputs": [
    {
     "name": "stdout",
     "output_type": "stream",
     "text": [
      "1/1 [==============================] - 1s 1s/step\n",
      "broken_144.JPG - Некачественное изображение (megalith, 0.12359913438558578)\n",
      "1/1 [==============================] - 0s 117ms/step\n",
      "broken_145.JPG - Некачественное изображение (megalith, 0.06566932797431946)\n",
      "1/1 [==============================] - 0s 228ms/step\n",
      "broken_164.JPG - Некачественное изображение (envelope, 0.0742274597287178)\n",
      "1/1 [==============================] - 0s 126ms/step\n",
      "broken_225.JPG - Качественное изображение (volcano, 0.7784013748168945)\n",
      "1/1 [==============================] - 0s 136ms/step\n",
      "broken_40.JPG - Некачественное изображение (megalith, 0.16138499975204468)\n"
     ]
    }
   ],
   "source": [
    "import tensorflow as tf\n",
    "from tensorflow.keras.preprocessing import image\n",
    "from tensorflow.keras.applications.inception_v3 import InceptionV3\n",
    "from tensorflow.keras.applications.inception_v3 import preprocess_input, decode_predictions\n",
    "import numpy as np\n",
    "import os\n",
    "\n",
    "# Загрузка предварительно обученной модели InceptionV3\n",
    "model = InceptionV3(weights='imagenet')\n",
    "img_size = (299, 299)\n",
    "def classify_image(image_path):\n",
    "    # Загрузка изображения и изменение размера\n",
    "    img = image.load_img(image_path, target_size=img_size)\n",
    "    img_array = image.img_to_array(img)\n",
    "    img_array = np.expand_dims(img_array, axis=0)\n",
    "    img_array = preprocess_input(img_array)\n",
    "\n",
    "    # Получение предсказаний\n",
    "    predictions = model.predict(img_array)\n",
    "\n",
    "    # Декодирование и вывод класса с наивысшей вероятностью\n",
    "    decoded_predictions = decode_predictions(predictions, top=1)[0]\n",
    "    label = decoded_predictions[0][1]\n",
    "    score = decoded_predictions[0][2]\n",
    "\n",
    "    return label, score\n",
    "\n",
    "def categorize_images(image_folder):\n",
    "    # Перебор всех файлов в папке с изображениями\n",
    "    for filename in os.listdir(image_folder):\n",
    "        if filename.endswith(\".jpg\") or filename.endswith(\".jpeg\") or filename.endswith(\".png\") or filename.endswith(\".JPG\"):\n",
    "            image_path = os.path.join(image_folder, filename)\n",
    "\n",
    "            # Классификация изображения\n",
    "            label, score = classify_image(image_path)\n",
    "\n",
    "            # Пороговое значение для определения качества изображения\n",
    "            threshold = 0.3\n",
    "\n",
    "            # Определение качественного или некачественного изображения\n",
    "            if score > threshold:\n",
    "                print(f\"{filename} - Качественное изображение ({label}, {score})\")\n",
    "                # Здесь можно выполнить дополнительные действия для качественных изображений\n",
    "            else:\n",
    "                print(f\"{filename} - Некачественное изображение ({label}, {score})\")\n",
    "                # Здесь можно выполнить дополнительные действия для некачественных изображений\n",
    "\n",
    "# Замените 'путь_к_папке' на путь к папке с вашими изображениями\n",
    "categorize_images('C:/pytorchTest/env/_xaxa novosib/для тестика/tmp')\n"
   ]
  },
  {
   "cell_type": "code",
   "execution_count": null,
   "id": "119f91a5",
   "metadata": {},
   "outputs": [],
   "source": []
  }
 ],
 "metadata": {
  "kernelspec": {
   "display_name": "Python 3 (ipykernel)",
   "language": "python",
   "name": "python3"
  },
  "language_info": {
   "codemirror_mode": {
    "name": "ipython",
    "version": 3
   },
   "file_extension": ".py",
   "mimetype": "text/x-python",
   "name": "python",
   "nbconvert_exporter": "python",
   "pygments_lexer": "ipython3",
   "version": "3.7.8"
  }
 },
 "nbformat": 4,
 "nbformat_minor": 5
}
