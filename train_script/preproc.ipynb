{
 "cells": [
  {
   "cell_type": "code",
   "execution_count": 2,
   "id": "79994883",
   "metadata": {},
   "outputs": [
    {
     "name": "stderr",
     "output_type": "stream",
     "text": [
      "c:\\pytorchtest\\env\\lib\\site-packages\\ipykernel_launcher.py:23: DeprecationWarning: ANTIALIAS is deprecated and will be removed in Pillow 10 (2023-07-01). Use LANCZOS or Resampling.LANCZOS instead.\n"
     ]
    }
   ],
   "source": [
    "from PIL import Image\n",
    "import os\n",
    "import cv2\n",
    "\n",
    "def preprocess_images(input_folder, output_folder, target_resolution=(128, 128)):\n",
    "    # Создаем папку для сохранения предобработанных изображений, если ее нет\n",
    "    if not os.path.exists(output_folder):\n",
    "        os.makedirs(output_folder)\n",
    "\n",
    "    # Проходим по всем изображениям в исходной папке\n",
    "    for filename in os.listdir(input_folder):\n",
    "        if filename.endswith(('.jpg', '.jpeg', '.png')):\n",
    "            input_path = os.path.join(input_folder, filename)\n",
    "            output_path = os.path.join(output_folder, filename)\n",
    "\n",
    "            # Открываем изображение с использованием Pillow\n",
    "            img = Image.open(input_path)\n",
    "\n",
    "            # Переводим изображение в черно-белый формат\n",
    "            img = img.convert('L')\n",
    "\n",
    "            # Изменяем размер изображения\n",
    "            img = img.resize(target_resolution, Image.ANTIALIAS)\n",
    "\n",
    "            # Сохраняем предобработанное изображение\n",
    "            img.save(output_path)\n",
    "\n",
    "# Указываем папки с изображениями и папку для сохранения предобработанных изображений\n",
    "input_folder = 'C:/pytorchTest/env/_xaxa novosib/отсортировано в 2 папки, первый классификатор/bad'\n",
    "output_folder = 'C:/pytorchTest/env/_xaxa novosib/отсортировано в 2 папки, первый классификатор/bad_proc'\n",
    "\n",
    "# Задаем разрешение для предобработки (в данном случае 128x128)\n",
    "target_resolution = (256, 256)\n",
    "\n",
    "# Вызываем функцию предобработки\n",
    "preprocess_images(input_folder, output_folder, target_resolution)\n"
   ]
  },
  {
   "cell_type": "code",
   "execution_count": 3,
   "id": "d50ad765",
   "metadata": {},
   "outputs": [
    {
     "name": "stderr",
     "output_type": "stream",
     "text": [
      "c:\\pytorchtest\\env\\lib\\site-packages\\ipykernel_launcher.py:23: DeprecationWarning: ANTIALIAS is deprecated and will be removed in Pillow 10 (2023-07-01). Use LANCZOS or Resampling.LANCZOS instead.\n"
     ]
    }
   ],
   "source": [
    "input_folder = 'C:/pytorchTest/env/_xaxa novosib/отсортировано в 2 папки, первый классификатор/good'\n",
    "output_folder = 'C:/pytorchTest/env/_xaxa novosib/отсортировано в 2 папки, первый классификатор/good_proc'\n",
    "\n",
    "target_resolution = (256, 256)\n",
    "\n",
    "# Вызываем функцию предобработки\n",
    "preprocess_images(input_folder, output_folder, target_resolution)"
   ]
  },
  {
   "cell_type": "code",
   "execution_count": null,
   "id": "299994d5",
   "metadata": {},
   "outputs": [],
   "source": []
  }
 ],
 "metadata": {
  "kernelspec": {
   "display_name": "Python 3 (ipykernel)",
   "language": "python",
   "name": "python3"
  },
  "language_info": {
   "codemirror_mode": {
    "name": "ipython",
    "version": 3
   },
   "file_extension": ".py",
   "mimetype": "text/x-python",
   "name": "python",
   "nbconvert_exporter": "python",
   "pygments_lexer": "ipython3",
   "version": "3.7.8"
  }
 },
 "nbformat": 4,
 "nbformat_minor": 5
}
